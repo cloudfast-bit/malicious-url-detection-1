{
  "nbformat": 4,
  "nbformat_minor": 0,
  "metadata": {
    "colab": {
      "name": "URLpractice2.ipynb",
      "provenance": [],
      "collapsed_sections": []
    },
    "kernelspec": {
      "name": "python2",
      "display_name": "Python 2"
    }
  },
  "cells": [
    {
      "cell_type": "code",
      "metadata": {
        "id": "v8hFSE7vbtk_",
        "colab_type": "code",
        "colab": {}
      },
      "source": [
        "import pandas as pd"
      ],
      "execution_count": 0,
      "outputs": []
    },
    {
      "cell_type": "code",
      "metadata": {
        "id": "G7RctBeHbypc",
        "colab_type": "code",
        "colab": {}
      },
      "source": [
        "url_data = [['www.yahoo.com', 1],\n",
        "            ['google.com', 1],\n",
        "            ['http://google.com', 1],\n",
        "            ['http://oogle.com', 0],\n",
        "            ['http://google.com/a.html', 0],\n",
        "            ['ggle.net', 0],\n",
        "            ['www.yahoo.com/', 2],\n",
        "            ['google.com/', 2],\n",
        "            ['http://google.com/', 2],\n",
        "            ['http://oogle.com/', 0],\n",
        "            ['http://google.com/a.html/', 1],\n",
        "            ['ggle.net/', 2]\n",
        "            ]\n",
        "url_columns = ['url', 'label']"
      ],
      "execution_count": 0,
      "outputs": []
    },
    {
      "cell_type": "code",
      "metadata": {
        "id": "m54xrjDRck_5",
        "colab_type": "code",
        "colab": {}
      },
      "source": [
        "pd.DataFrame??"
      ],
      "execution_count": 0,
      "outputs": []
    },
    {
      "cell_type": "code",
      "metadata": {
        "id": "y4SpBLpGcRkb",
        "colab_type": "code",
        "outputId": "89576faf-c770-4f40-fc6a-6fdb57f83891",
        "colab": {
          "base_uri": "https://localhost:8080/",
          "height": 206
        }
      },
      "source": [
        "df_url = pd.DataFrame(data=url_data, columns=url_columns)\n",
        "df_url.head()"
      ],
      "execution_count": 4,
      "outputs": [
        {
          "output_type": "execute_result",
          "data": {
            "text/html": [
              "<div>\n",
              "<style scoped>\n",
              "    .dataframe tbody tr th:only-of-type {\n",
              "        vertical-align: middle;\n",
              "    }\n",
              "\n",
              "    .dataframe tbody tr th {\n",
              "        vertical-align: top;\n",
              "    }\n",
              "\n",
              "    .dataframe thead th {\n",
              "        text-align: right;\n",
              "    }\n",
              "</style>\n",
              "<table border=\"1\" class=\"dataframe\">\n",
              "  <thead>\n",
              "    <tr style=\"text-align: right;\">\n",
              "      <th></th>\n",
              "      <th>url</th>\n",
              "      <th>label</th>\n",
              "    </tr>\n",
              "  </thead>\n",
              "  <tbody>\n",
              "    <tr>\n",
              "      <th>0</th>\n",
              "      <td>www.yahoo.com</td>\n",
              "      <td>1</td>\n",
              "    </tr>\n",
              "    <tr>\n",
              "      <th>1</th>\n",
              "      <td>google.com</td>\n",
              "      <td>1</td>\n",
              "    </tr>\n",
              "    <tr>\n",
              "      <th>2</th>\n",
              "      <td>http://google.com</td>\n",
              "      <td>1</td>\n",
              "    </tr>\n",
              "    <tr>\n",
              "      <th>3</th>\n",
              "      <td>http://oogle.com</td>\n",
              "      <td>0</td>\n",
              "    </tr>\n",
              "    <tr>\n",
              "      <th>4</th>\n",
              "      <td>http://google.com/a.html</td>\n",
              "      <td>0</td>\n",
              "    </tr>\n",
              "  </tbody>\n",
              "</table>\n",
              "</div>"
            ],
            "text/plain": [
              "                        url  label\n",
              "0             www.yahoo.com      1\n",
              "1                google.com      1\n",
              "2         http://google.com      1\n",
              "3          http://oogle.com      0\n",
              "4  http://google.com/a.html      0"
            ]
          },
          "metadata": {
            "tags": []
          },
          "execution_count": 4
        }
      ]
    },
    {
      "cell_type": "code",
      "metadata": {
        "id": "KvRDtk0Cc1e5",
        "colab_type": "code",
        "outputId": "dc2b96fa-7932-4e87-f237-8d852e302141",
        "colab": {
          "base_uri": "https://localhost:8080/",
          "height": 461
        }
      },
      "source": [
        "#count number of dots\n",
        "symbols = {'dots':'.', 'slashes':'/'}\n",
        "\n",
        "for s in symbols:\n",
        "  print s, symbols[s]\n",
        "  df_url[s] = df_url['url'].apply(lambda x: x.count(symbols[s]))\n",
        "\n",
        "df_url['len'] = df_url['url'].apply(lambda x: len(x))\n",
        "display(df_url)"
      ],
      "execution_count": 5,
      "outputs": [
        {
          "output_type": "stream",
          "text": [
            "dots .\n",
            "slashes /\n"
          ],
          "name": "stdout"
        },
        {
          "output_type": "display_data",
          "data": {
            "text/plain": [
              "                          url  label  dots  slashes  len\n",
              "0               www.yahoo.com      1     2        0   13\n",
              "1                  google.com      1     1        0   10\n",
              "2           http://google.com      1     1        2   17\n",
              "3            http://oogle.com      0     1        2   16\n",
              "4    http://google.com/a.html      0     2        3   24\n",
              "5                    ggle.net      0     1        0    8\n",
              "6              www.yahoo.com/      2     2        1   14\n",
              "7                 google.com/      2     1        1   11\n",
              "8          http://google.com/      2     1        3   18\n",
              "9           http://oogle.com/      0     1        3   17\n",
              "10  http://google.com/a.html/      1     2        4   25\n",
              "11                  ggle.net/      2     1        1    9"
            ],
            "text/html": [
              "<div>\n",
              "<style scoped>\n",
              "    .dataframe tbody tr th:only-of-type {\n",
              "        vertical-align: middle;\n",
              "    }\n",
              "\n",
              "    .dataframe tbody tr th {\n",
              "        vertical-align: top;\n",
              "    }\n",
              "\n",
              "    .dataframe thead th {\n",
              "        text-align: right;\n",
              "    }\n",
              "</style>\n",
              "<table border=\"1\" class=\"dataframe\">\n",
              "  <thead>\n",
              "    <tr style=\"text-align: right;\">\n",
              "      <th></th>\n",
              "      <th>url</th>\n",
              "      <th>label</th>\n",
              "      <th>dots</th>\n",
              "      <th>slashes</th>\n",
              "      <th>len</th>\n",
              "    </tr>\n",
              "  </thead>\n",
              "  <tbody>\n",
              "    <tr>\n",
              "      <th>0</th>\n",
              "      <td>www.yahoo.com</td>\n",
              "      <td>1</td>\n",
              "      <td>2</td>\n",
              "      <td>0</td>\n",
              "      <td>13</td>\n",
              "    </tr>\n",
              "    <tr>\n",
              "      <th>1</th>\n",
              "      <td>google.com</td>\n",
              "      <td>1</td>\n",
              "      <td>1</td>\n",
              "      <td>0</td>\n",
              "      <td>10</td>\n",
              "    </tr>\n",
              "    <tr>\n",
              "      <th>2</th>\n",
              "      <td>http://google.com</td>\n",
              "      <td>1</td>\n",
              "      <td>1</td>\n",
              "      <td>2</td>\n",
              "      <td>17</td>\n",
              "    </tr>\n",
              "    <tr>\n",
              "      <th>3</th>\n",
              "      <td>http://oogle.com</td>\n",
              "      <td>0</td>\n",
              "      <td>1</td>\n",
              "      <td>2</td>\n",
              "      <td>16</td>\n",
              "    </tr>\n",
              "    <tr>\n",
              "      <th>4</th>\n",
              "      <td>http://google.com/a.html</td>\n",
              "      <td>0</td>\n",
              "      <td>2</td>\n",
              "      <td>3</td>\n",
              "      <td>24</td>\n",
              "    </tr>\n",
              "    <tr>\n",
              "      <th>5</th>\n",
              "      <td>ggle.net</td>\n",
              "      <td>0</td>\n",
              "      <td>1</td>\n",
              "      <td>0</td>\n",
              "      <td>8</td>\n",
              "    </tr>\n",
              "    <tr>\n",
              "      <th>6</th>\n",
              "      <td>www.yahoo.com/</td>\n",
              "      <td>2</td>\n",
              "      <td>2</td>\n",
              "      <td>1</td>\n",
              "      <td>14</td>\n",
              "    </tr>\n",
              "    <tr>\n",
              "      <th>7</th>\n",
              "      <td>google.com/</td>\n",
              "      <td>2</td>\n",
              "      <td>1</td>\n",
              "      <td>1</td>\n",
              "      <td>11</td>\n",
              "    </tr>\n",
              "    <tr>\n",
              "      <th>8</th>\n",
              "      <td>http://google.com/</td>\n",
              "      <td>2</td>\n",
              "      <td>1</td>\n",
              "      <td>3</td>\n",
              "      <td>18</td>\n",
              "    </tr>\n",
              "    <tr>\n",
              "      <th>9</th>\n",
              "      <td>http://oogle.com/</td>\n",
              "      <td>0</td>\n",
              "      <td>1</td>\n",
              "      <td>3</td>\n",
              "      <td>17</td>\n",
              "    </tr>\n",
              "    <tr>\n",
              "      <th>10</th>\n",
              "      <td>http://google.com/a.html/</td>\n",
              "      <td>1</td>\n",
              "      <td>2</td>\n",
              "      <td>4</td>\n",
              "      <td>25</td>\n",
              "    </tr>\n",
              "    <tr>\n",
              "      <th>11</th>\n",
              "      <td>ggle.net/</td>\n",
              "      <td>2</td>\n",
              "      <td>1</td>\n",
              "      <td>1</td>\n",
              "      <td>9</td>\n",
              "    </tr>\n",
              "  </tbody>\n",
              "</table>\n",
              "</div>"
            ]
          },
          "metadata": {
            "tags": []
          }
        }
      ]
    },
    {
      "cell_type": "code",
      "metadata": {
        "id": "DVgVZR2ceUW7",
        "colab_type": "code",
        "outputId": "32c0d5b3-4906-4e25-8ae8-718f077de403",
        "colab": {
          "base_uri": "https://localhost:8080/",
          "height": 300
        }
      },
      "source": [
        "df_url.describe()"
      ],
      "execution_count": 6,
      "outputs": [
        {
          "output_type": "execute_result",
          "data": {
            "text/html": [
              "<div>\n",
              "<style scoped>\n",
              "    .dataframe tbody tr th:only-of-type {\n",
              "        vertical-align: middle;\n",
              "    }\n",
              "\n",
              "    .dataframe tbody tr th {\n",
              "        vertical-align: top;\n",
              "    }\n",
              "\n",
              "    .dataframe thead th {\n",
              "        text-align: right;\n",
              "    }\n",
              "</style>\n",
              "<table border=\"1\" class=\"dataframe\">\n",
              "  <thead>\n",
              "    <tr style=\"text-align: right;\">\n",
              "      <th></th>\n",
              "      <th>label</th>\n",
              "      <th>dots</th>\n",
              "      <th>slashes</th>\n",
              "      <th>len</th>\n",
              "    </tr>\n",
              "  </thead>\n",
              "  <tbody>\n",
              "    <tr>\n",
              "      <th>count</th>\n",
              "      <td>12.000000</td>\n",
              "      <td>12.000000</td>\n",
              "      <td>12.000000</td>\n",
              "      <td>12.000000</td>\n",
              "    </tr>\n",
              "    <tr>\n",
              "      <th>mean</th>\n",
              "      <td>1.000000</td>\n",
              "      <td>1.333333</td>\n",
              "      <td>1.666667</td>\n",
              "      <td>15.166667</td>\n",
              "    </tr>\n",
              "    <tr>\n",
              "      <th>std</th>\n",
              "      <td>0.852803</td>\n",
              "      <td>0.492366</td>\n",
              "      <td>1.370689</td>\n",
              "      <td>5.474459</td>\n",
              "    </tr>\n",
              "    <tr>\n",
              "      <th>min</th>\n",
              "      <td>0.000000</td>\n",
              "      <td>1.000000</td>\n",
              "      <td>0.000000</td>\n",
              "      <td>8.000000</td>\n",
              "    </tr>\n",
              "    <tr>\n",
              "      <th>25%</th>\n",
              "      <td>0.000000</td>\n",
              "      <td>1.000000</td>\n",
              "      <td>0.750000</td>\n",
              "      <td>10.750000</td>\n",
              "    </tr>\n",
              "    <tr>\n",
              "      <th>50%</th>\n",
              "      <td>1.000000</td>\n",
              "      <td>1.000000</td>\n",
              "      <td>1.500000</td>\n",
              "      <td>15.000000</td>\n",
              "    </tr>\n",
              "    <tr>\n",
              "      <th>75%</th>\n",
              "      <td>2.000000</td>\n",
              "      <td>2.000000</td>\n",
              "      <td>3.000000</td>\n",
              "      <td>17.250000</td>\n",
              "    </tr>\n",
              "    <tr>\n",
              "      <th>max</th>\n",
              "      <td>2.000000</td>\n",
              "      <td>2.000000</td>\n",
              "      <td>4.000000</td>\n",
              "      <td>25.000000</td>\n",
              "    </tr>\n",
              "  </tbody>\n",
              "</table>\n",
              "</div>"
            ],
            "text/plain": [
              "           label       dots    slashes        len\n",
              "count  12.000000  12.000000  12.000000  12.000000\n",
              "mean    1.000000   1.333333   1.666667  15.166667\n",
              "std     0.852803   0.492366   1.370689   5.474459\n",
              "min     0.000000   1.000000   0.000000   8.000000\n",
              "25%     0.000000   1.000000   0.750000  10.750000\n",
              "50%     1.000000   1.000000   1.500000  15.000000\n",
              "75%     2.000000   2.000000   3.000000  17.250000\n",
              "max     2.000000   2.000000   4.000000  25.000000"
            ]
          },
          "metadata": {
            "tags": []
          },
          "execution_count": 6
        }
      ]
    },
    {
      "cell_type": "code",
      "metadata": {
        "id": "0klSiXr-e00J",
        "colab_type": "code",
        "outputId": "0aa8467f-f68f-4a77-85d1-a3d1dbc8be80",
        "colab": {
          "base_uri": "https://localhost:8080/",
          "height": 652
        }
      },
      "source": [
        "X = df_url.drop(['label','url'], axis = 'columns')\n",
        "y = df_url['label']\n",
        "display(X, y )"
      ],
      "execution_count": 7,
      "outputs": [
        {
          "output_type": "display_data",
          "data": {
            "text/plain": [
              "    dots  slashes  len\n",
              "0      2        0   13\n",
              "1      1        0   10\n",
              "2      1        2   17\n",
              "3      1        2   16\n",
              "4      2        3   24\n",
              "5      1        0    8\n",
              "6      2        1   14\n",
              "7      1        1   11\n",
              "8      1        3   18\n",
              "9      1        3   17\n",
              "10     2        4   25\n",
              "11     1        1    9"
            ],
            "text/html": [
              "<div>\n",
              "<style scoped>\n",
              "    .dataframe tbody tr th:only-of-type {\n",
              "        vertical-align: middle;\n",
              "    }\n",
              "\n",
              "    .dataframe tbody tr th {\n",
              "        vertical-align: top;\n",
              "    }\n",
              "\n",
              "    .dataframe thead th {\n",
              "        text-align: right;\n",
              "    }\n",
              "</style>\n",
              "<table border=\"1\" class=\"dataframe\">\n",
              "  <thead>\n",
              "    <tr style=\"text-align: right;\">\n",
              "      <th></th>\n",
              "      <th>dots</th>\n",
              "      <th>slashes</th>\n",
              "      <th>len</th>\n",
              "    </tr>\n",
              "  </thead>\n",
              "  <tbody>\n",
              "    <tr>\n",
              "      <th>0</th>\n",
              "      <td>2</td>\n",
              "      <td>0</td>\n",
              "      <td>13</td>\n",
              "    </tr>\n",
              "    <tr>\n",
              "      <th>1</th>\n",
              "      <td>1</td>\n",
              "      <td>0</td>\n",
              "      <td>10</td>\n",
              "    </tr>\n",
              "    <tr>\n",
              "      <th>2</th>\n",
              "      <td>1</td>\n",
              "      <td>2</td>\n",
              "      <td>17</td>\n",
              "    </tr>\n",
              "    <tr>\n",
              "      <th>3</th>\n",
              "      <td>1</td>\n",
              "      <td>2</td>\n",
              "      <td>16</td>\n",
              "    </tr>\n",
              "    <tr>\n",
              "      <th>4</th>\n",
              "      <td>2</td>\n",
              "      <td>3</td>\n",
              "      <td>24</td>\n",
              "    </tr>\n",
              "    <tr>\n",
              "      <th>5</th>\n",
              "      <td>1</td>\n",
              "      <td>0</td>\n",
              "      <td>8</td>\n",
              "    </tr>\n",
              "    <tr>\n",
              "      <th>6</th>\n",
              "      <td>2</td>\n",
              "      <td>1</td>\n",
              "      <td>14</td>\n",
              "    </tr>\n",
              "    <tr>\n",
              "      <th>7</th>\n",
              "      <td>1</td>\n",
              "      <td>1</td>\n",
              "      <td>11</td>\n",
              "    </tr>\n",
              "    <tr>\n",
              "      <th>8</th>\n",
              "      <td>1</td>\n",
              "      <td>3</td>\n",
              "      <td>18</td>\n",
              "    </tr>\n",
              "    <tr>\n",
              "      <th>9</th>\n",
              "      <td>1</td>\n",
              "      <td>3</td>\n",
              "      <td>17</td>\n",
              "    </tr>\n",
              "    <tr>\n",
              "      <th>10</th>\n",
              "      <td>2</td>\n",
              "      <td>4</td>\n",
              "      <td>25</td>\n",
              "    </tr>\n",
              "    <tr>\n",
              "      <th>11</th>\n",
              "      <td>1</td>\n",
              "      <td>1</td>\n",
              "      <td>9</td>\n",
              "    </tr>\n",
              "  </tbody>\n",
              "</table>\n",
              "</div>"
            ]
          },
          "metadata": {
            "tags": []
          }
        },
        {
          "output_type": "display_data",
          "data": {
            "text/plain": [
              "0     1\n",
              "1     1\n",
              "2     1\n",
              "3     0\n",
              "4     0\n",
              "5     0\n",
              "6     2\n",
              "7     2\n",
              "8     2\n",
              "9     0\n",
              "10    1\n",
              "11    2\n",
              "Name: label, dtype: int64"
            ]
          },
          "metadata": {
            "tags": []
          }
        }
      ]
    },
    {
      "cell_type": "code",
      "metadata": {
        "id": "7KWeR9n5fdK6",
        "colab_type": "code",
        "colab": {}
      },
      "source": [
        "RAND_SEED = 33\n",
        "\n",
        "from sklearn.model_selection import train_test_split\n",
        "\n",
        "X_train, X_test, y_train, y_test = train_test_split(X, y, random_state = RAND_SEED)"
      ],
      "execution_count": 0,
      "outputs": []
    },
    {
      "cell_type": "code",
      "metadata": {
        "id": "A_lEA906fyle",
        "colab_type": "code",
        "outputId": "18cb9848-154c-4897-a8e0-e91734fc2d4a",
        "colab": {
          "base_uri": "https://localhost:8080/",
          "height": 701
        }
      },
      "source": [
        "display(X_train, X_test, y_train, y_test)"
      ],
      "execution_count": 9,
      "outputs": [
        {
          "output_type": "display_data",
          "data": {
            "text/plain": [
              "    dots  slashes  len\n",
              "10     2        4   25\n",
              "3      1        2   16\n",
              "6      2        1   14\n",
              "1      1        0   10\n",
              "9      1        3   17\n",
              "2      1        2   17\n",
              "8      1        3   18\n",
              "7      1        1   11\n",
              "4      2        3   24"
            ],
            "text/html": [
              "<div>\n",
              "<style scoped>\n",
              "    .dataframe tbody tr th:only-of-type {\n",
              "        vertical-align: middle;\n",
              "    }\n",
              "\n",
              "    .dataframe tbody tr th {\n",
              "        vertical-align: top;\n",
              "    }\n",
              "\n",
              "    .dataframe thead th {\n",
              "        text-align: right;\n",
              "    }\n",
              "</style>\n",
              "<table border=\"1\" class=\"dataframe\">\n",
              "  <thead>\n",
              "    <tr style=\"text-align: right;\">\n",
              "      <th></th>\n",
              "      <th>dots</th>\n",
              "      <th>slashes</th>\n",
              "      <th>len</th>\n",
              "    </tr>\n",
              "  </thead>\n",
              "  <tbody>\n",
              "    <tr>\n",
              "      <th>10</th>\n",
              "      <td>2</td>\n",
              "      <td>4</td>\n",
              "      <td>25</td>\n",
              "    </tr>\n",
              "    <tr>\n",
              "      <th>3</th>\n",
              "      <td>1</td>\n",
              "      <td>2</td>\n",
              "      <td>16</td>\n",
              "    </tr>\n",
              "    <tr>\n",
              "      <th>6</th>\n",
              "      <td>2</td>\n",
              "      <td>1</td>\n",
              "      <td>14</td>\n",
              "    </tr>\n",
              "    <tr>\n",
              "      <th>1</th>\n",
              "      <td>1</td>\n",
              "      <td>0</td>\n",
              "      <td>10</td>\n",
              "    </tr>\n",
              "    <tr>\n",
              "      <th>9</th>\n",
              "      <td>1</td>\n",
              "      <td>3</td>\n",
              "      <td>17</td>\n",
              "    </tr>\n",
              "    <tr>\n",
              "      <th>2</th>\n",
              "      <td>1</td>\n",
              "      <td>2</td>\n",
              "      <td>17</td>\n",
              "    </tr>\n",
              "    <tr>\n",
              "      <th>8</th>\n",
              "      <td>1</td>\n",
              "      <td>3</td>\n",
              "      <td>18</td>\n",
              "    </tr>\n",
              "    <tr>\n",
              "      <th>7</th>\n",
              "      <td>1</td>\n",
              "      <td>1</td>\n",
              "      <td>11</td>\n",
              "    </tr>\n",
              "    <tr>\n",
              "      <th>4</th>\n",
              "      <td>2</td>\n",
              "      <td>3</td>\n",
              "      <td>24</td>\n",
              "    </tr>\n",
              "  </tbody>\n",
              "</table>\n",
              "</div>"
            ]
          },
          "metadata": {
            "tags": []
          }
        },
        {
          "output_type": "display_data",
          "data": {
            "text/plain": [
              "    dots  slashes  len\n",
              "0      2        0   13\n",
              "11     1        1    9\n",
              "5      1        0    8"
            ],
            "text/html": [
              "<div>\n",
              "<style scoped>\n",
              "    .dataframe tbody tr th:only-of-type {\n",
              "        vertical-align: middle;\n",
              "    }\n",
              "\n",
              "    .dataframe tbody tr th {\n",
              "        vertical-align: top;\n",
              "    }\n",
              "\n",
              "    .dataframe thead th {\n",
              "        text-align: right;\n",
              "    }\n",
              "</style>\n",
              "<table border=\"1\" class=\"dataframe\">\n",
              "  <thead>\n",
              "    <tr style=\"text-align: right;\">\n",
              "      <th></th>\n",
              "      <th>dots</th>\n",
              "      <th>slashes</th>\n",
              "      <th>len</th>\n",
              "    </tr>\n",
              "  </thead>\n",
              "  <tbody>\n",
              "    <tr>\n",
              "      <th>0</th>\n",
              "      <td>2</td>\n",
              "      <td>0</td>\n",
              "      <td>13</td>\n",
              "    </tr>\n",
              "    <tr>\n",
              "      <th>11</th>\n",
              "      <td>1</td>\n",
              "      <td>1</td>\n",
              "      <td>9</td>\n",
              "    </tr>\n",
              "    <tr>\n",
              "      <th>5</th>\n",
              "      <td>1</td>\n",
              "      <td>0</td>\n",
              "      <td>8</td>\n",
              "    </tr>\n",
              "  </tbody>\n",
              "</table>\n",
              "</div>"
            ]
          },
          "metadata": {
            "tags": []
          }
        },
        {
          "output_type": "display_data",
          "data": {
            "text/plain": [
              "10    1\n",
              "3     0\n",
              "6     2\n",
              "1     1\n",
              "9     0\n",
              "2     1\n",
              "8     2\n",
              "7     2\n",
              "4     0\n",
              "Name: label, dtype: int64"
            ]
          },
          "metadata": {
            "tags": []
          }
        },
        {
          "output_type": "display_data",
          "data": {
            "text/plain": [
              "0     1\n",
              "11    2\n",
              "5     0\n",
              "Name: label, dtype: int64"
            ]
          },
          "metadata": {
            "tags": []
          }
        }
      ]
    },
    {
      "cell_type": "markdown",
      "metadata": {
        "id": "w3dfPQaKiPAt",
        "colab_type": "text"
      },
      "source": [
        "# Machine Learning"
      ]
    },
    {
      "cell_type": "code",
      "metadata": {
        "id": "BVx7nI-KhDsj",
        "colab_type": "code",
        "colab": {}
      },
      "source": [
        "# use baseline classifiers that do not require standardisation\n",
        "from sklearn.linear_model import LogisticRegression\n",
        "from sklearn.naive_bayes import GaussianNB\n",
        "from sklearn.tree import DecisionTreeClassifier\n",
        "from sklearn.ensemble import AdaBoostClassifier, GradientBoostingClassifier, RandomForestClassifier\n",
        "from xgboost import XGBClassifier\n",
        "\n",
        "models = {'Logistic Regression': LogisticRegression(),\n",
        "          'Naive Bayes':GaussianNB(),\n",
        "          'Decision Tree': DecisionTreeClassifier(),\n",
        "          'AdaBoost': AdaBoostClassifier(),\n",
        "          'Gradient Boosting': GradientBoostingClassifier(),\n",
        "          'XGBoost': XGBClassifier(),\n",
        "          'Random Forest': RandomForestClassifier()\n",
        "          }"
      ],
      "execution_count": 0,
      "outputs": []
    },
    {
      "cell_type": "code",
      "metadata": {
        "id": "5phOIiO0hzCS",
        "colab_type": "code",
        "colab": {}
      },
      "source": [
        "from sklearn.metrics import f1_score, classification_report, confusion_matrix"
      ],
      "execution_count": 0,
      "outputs": []
    },
    {
      "cell_type": "code",
      "metadata": {
        "id": "97XeqFBEj-Xf",
        "colab_type": "code",
        "colab": {}
      },
      "source": [
        "f1_score??"
      ],
      "execution_count": 0,
      "outputs": []
    },
    {
      "cell_type": "code",
      "metadata": {
        "id": "BFyz-SzRiOX_",
        "colab_type": "code",
        "outputId": "10752810-912a-4732-e4e1-c42074eb09b6",
        "colab": {
          "base_uri": "https://localhost:8080/",
          "height": 1000
        }
      },
      "source": [
        "f1 = {}\n",
        "cr = {}\n",
        "cm = {}\n",
        "\n",
        "for m in models:\n",
        "  clf = models[m]\n",
        "  clf.fit(X_train, y_train)\n",
        "  pred = clf.predict(X_test)\n",
        "  f1[m] = '{0:.2f}'.format(f1_score(y_test, pred, average='macro'))\n",
        "  cr[m] = classification_report(y_test, pred)\n",
        "  cm[m] = confusion_matrix(y_test, pred)\n",
        "\n",
        "  print '\\nPrediction for', m, pred\n",
        "  print 'F1 score', f1[m]\n",
        "  print cr[m]\n",
        "  print cm[m]"
      ],
      "execution_count": 13,
      "outputs": [
        {
          "output_type": "stream",
          "text": [
            "/usr/local/lib/python2.7/dist-packages/sklearn/metrics/classification.py:1143: UndefinedMetricWarning: F-score is ill-defined and being set to 0.0 in labels with no predicted samples.\n",
            "  'precision', 'predicted', average, warn_for)\n",
            "/usr/local/lib/python2.7/dist-packages/sklearn/metrics/classification.py:1143: UndefinedMetricWarning: Precision and F-score are ill-defined and being set to 0.0 in labels with no predicted samples.\n",
            "  'precision', 'predicted', average, warn_for)\n"
          ],
          "name": "stderr"
        },
        {
          "output_type": "stream",
          "text": [
            "\n",
            "Prediction for Decision Tree [1 2 1]\n",
            "F1 score 0.56\n",
            "              precision    recall  f1-score   support\n",
            "\n",
            "           0       0.00      0.00      0.00         1\n",
            "           1       0.50      1.00      0.67         1\n",
            "           2       1.00      1.00      1.00         1\n",
            "\n",
            "   micro avg       0.67      0.67      0.67         3\n",
            "   macro avg       0.50      0.67      0.56         3\n",
            "weighted avg       0.50      0.67      0.56         3\n",
            "\n",
            "[[0 1 0]\n",
            " [0 1 0]\n",
            " [0 0 1]]\n",
            "\n",
            "Prediction for XGBoost [2 2 2]\n",
            "F1 score 0.17\n",
            "              precision    recall  f1-score   support\n",
            "\n",
            "           0       0.00      0.00      0.00         1\n",
            "           1       0.00      0.00      0.00         1\n",
            "           2       0.33      1.00      0.50         1\n",
            "\n",
            "   micro avg       0.33      0.33      0.33         3\n",
            "   macro avg       0.11      0.33      0.17         3\n",
            "weighted avg       0.11      0.33      0.17         3\n",
            "\n",
            "[[0 0 1]\n",
            " [0 0 1]\n",
            " [0 0 1]]\n",
            "\n",
            "Prediction for Naive Bayes [2 2 1]\n",
            "F1 score 0.22\n",
            "              precision    recall  f1-score   support\n",
            "\n",
            "           0       0.00      0.00      0.00         1\n",
            "           1       0.00      0.00      0.00         1\n",
            "           2       0.50      1.00      0.67         1\n",
            "\n",
            "   micro avg       0.33      0.33      0.33         3\n",
            "   macro avg       0.17      0.33      0.22         3\n",
            "weighted avg       0.17      0.33      0.22         3\n",
            "\n",
            "[[0 1 0]\n",
            " [0 0 1]\n",
            " [0 0 1]]\n",
            "\n",
            "Prediction for Gradient Boosting [2 1 1]\n",
            "F1 score 0.00\n",
            "              precision    recall  f1-score   support\n",
            "\n",
            "           0       0.00      0.00      0.00         1\n",
            "           1       0.00      0.00      0.00         1\n",
            "           2       0.00      0.00      0.00         1\n",
            "\n",
            "   micro avg       0.00      0.00      0.00         3\n",
            "   macro avg       0.00      0.00      0.00         3\n",
            "weighted avg       0.00      0.00      0.00         3\n",
            "\n",
            "[[0 1 0]\n",
            " [0 0 1]\n",
            " [0 1 0]]\n",
            "\n",
            "Prediction for AdaBoost [2 2 2]\n",
            "F1 score 0.17\n",
            "              precision    recall  f1-score   support\n",
            "\n",
            "           0       0.00      0.00      0.00         1\n",
            "           1       0.00      0.00      0.00         1\n",
            "           2       0.33      1.00      0.50         1\n",
            "\n",
            "   micro avg       0.33      0.33      0.33         3\n",
            "   macro avg       0.11      0.33      0.17         3\n",
            "weighted avg       0.11      0.33      0.17         3\n",
            "\n",
            "[[0 0 1]\n",
            " [0 0 1]\n",
            " [0 0 1]]\n",
            "\n",
            "Prediction for Logistic Regression [2 2 2]\n",
            "F1 score 0.17\n",
            "              precision    recall  f1-score   support\n",
            "\n",
            "           0       0.00      0.00      0.00         1\n",
            "           1       0.00      0.00      0.00         1\n",
            "           2       0.33      1.00      0.50         1\n",
            "\n",
            "   micro avg       0.33      0.33      0.33         3\n",
            "   macro avg       0.11      0.33      0.17         3\n",
            "weighted avg       0.11      0.33      0.17         3\n",
            "\n",
            "[[0 0 1]\n",
            " [0 0 1]\n",
            " [0 0 1]]\n",
            "\n",
            "Prediction for Random Forest [2 2 1]\n",
            "F1 score 0.22\n",
            "              precision    recall  f1-score   support\n",
            "\n",
            "           0       0.00      0.00      0.00         1\n",
            "           1       0.00      0.00      0.00         1\n",
            "           2       0.50      1.00      0.67         1\n",
            "\n",
            "   micro avg       0.33      0.33      0.33         3\n",
            "   macro avg       0.17      0.33      0.22         3\n",
            "weighted avg       0.17      0.33      0.22         3\n",
            "\n",
            "[[0 1 0]\n",
            " [0 0 1]\n",
            " [0 0 1]]\n"
          ],
          "name": "stdout"
        },
        {
          "output_type": "stream",
          "text": [
            "/usr/local/lib/python2.7/dist-packages/sklearn/linear_model/logistic.py:433: FutureWarning: Default solver will be changed to 'lbfgs' in 0.22. Specify a solver to silence this warning.\n",
            "  FutureWarning)\n",
            "/usr/local/lib/python2.7/dist-packages/sklearn/linear_model/logistic.py:460: FutureWarning: Default multi_class will be changed to 'auto' in 0.22. Specify the multi_class option to silence this warning.\n",
            "  \"this warning.\", FutureWarning)\n",
            "/usr/local/lib/python2.7/dist-packages/sklearn/ensemble/forest.py:246: FutureWarning: The default value of n_estimators will change from 10 in version 0.20 to 100 in 0.22.\n",
            "  \"10 in version 0.20 to 100 in 0.22.\", FutureWarning)\n"
          ],
          "name": "stderr"
        }
      ]
    },
    {
      "cell_type": "markdown",
      "metadata": {
        "id": "bl4jZcsOiSOi",
        "colab_type": "text"
      },
      "source": [
        "# Neural Network"
      ]
    },
    {
      "cell_type": "code",
      "metadata": {
        "id": "6Ve8MY99jMDc",
        "colab_type": "code",
        "colab": {
          "base_uri": "https://localhost:8080/",
          "height": 34
        },
        "outputId": "7e335430-2fe0-4321-8142-7a040a69379f"
      },
      "source": [
        "X_train.shape[1]"
      ],
      "execution_count": 14,
      "outputs": [
        {
          "output_type": "execute_result",
          "data": {
            "text/plain": [
              "3"
            ]
          },
          "metadata": {
            "tags": []
          },
          "execution_count": 14
        }
      ]
    },
    {
      "cell_type": "code",
      "metadata": {
        "id": "G8DqvaPhiVAJ",
        "colab_type": "code",
        "colab": {
          "base_uri": "https://localhost:8080/",
          "height": 801
        },
        "outputId": "b2a07a23-bb19-45e2-d752-632fbc38012e"
      },
      "source": [
        "from keras.layers import Dense\n",
        "from keras.models import Sequential\n",
        "\n",
        "def build_nn(n):\n",
        "  model = Sequential()\n",
        "  model.add(Dense(units=32, input_dim=n, activation='relu'))\n",
        "  model.add(Dense(units=16, activation='relu'))\n",
        "  model.add(Dense(units=3,activation='softmax'))\n",
        "\n",
        "  model.compile(optimizer='adam', loss='sparse_categorical_crossentropy')\n",
        "  model.summary()\n",
        "\n",
        "  return model\n",
        "\n",
        "nn_model = build_nn(X_train.shape[1])\n",
        "nn_model.fit(X_train, y_train, epochs=100, verbose=0, validation_split=0.2)\n",
        "pred = nn_model.predict_classes(X_test)\n",
        "f1 = '{0:.3f}'.format(f1_score(y_test,pred, average='macro'))\n",
        "cm = confusion_matrix(y_test, pred)\n",
        "cr = classification_report(y_test,pred)\n",
        "print 'Neural Network f1-score: ', f1\n",
        "print cr\n",
        "print cm"
      ],
      "execution_count": 15,
      "outputs": [
        {
          "output_type": "stream",
          "text": [
            "Using TensorFlow backend.\n",
            "WARNING: Logging before flag parsing goes to stderr.\n",
            "W0918 13:33:24.644325 140169749440384 deprecation_wrapper.py:119] From /usr/local/lib/python2.7/dist-packages/keras/backend/tensorflow_backend.py:74: The name tf.get_default_graph is deprecated. Please use tf.compat.v1.get_default_graph instead.\n",
            "\n",
            "W0918 13:33:24.658576 140169749440384 deprecation_wrapper.py:119] From /usr/local/lib/python2.7/dist-packages/keras/backend/tensorflow_backend.py:517: The name tf.placeholder is deprecated. Please use tf.compat.v1.placeholder instead.\n",
            "\n",
            "W0918 13:33:24.661514 140169749440384 deprecation_wrapper.py:119] From /usr/local/lib/python2.7/dist-packages/keras/backend/tensorflow_backend.py:4138: The name tf.random_uniform is deprecated. Please use tf.random.uniform instead.\n",
            "\n",
            "W0918 13:33:24.698620 140169749440384 deprecation_wrapper.py:119] From /usr/local/lib/python2.7/dist-packages/keras/optimizers.py:790: The name tf.train.Optimizer is deprecated. Please use tf.compat.v1.train.Optimizer instead.\n",
            "\n",
            "W0918 13:33:24.719331 140169749440384 deprecation_wrapper.py:119] From /usr/local/lib/python2.7/dist-packages/keras/backend/tensorflow_backend.py:3341: The name tf.log is deprecated. Please use tf.math.log instead.\n",
            "\n",
            "W0918 13:33:24.789726 140169749440384 deprecation.py:323] From /usr/local/lib/python2.7/dist-packages/tensorflow/python/ops/math_grad.py:1250: where (from tensorflow.python.ops.array_ops) is deprecated and will be removed in a future version.\n",
            "Instructions for updating:\n",
            "Use tf.where in 2.0, which has the same broadcast rule as np.where\n"
          ],
          "name": "stderr"
        },
        {
          "output_type": "stream",
          "text": [
            "_________________________________________________________________\n",
            "Layer (type)                 Output Shape              Param #   \n",
            "=================================================================\n",
            "dense_1 (Dense)              (None, 32)                128       \n",
            "_________________________________________________________________\n",
            "dense_2 (Dense)              (None, 16)                528       \n",
            "_________________________________________________________________\n",
            "dense_3 (Dense)              (None, 3)                 51        \n",
            "=================================================================\n",
            "Total params: 707\n",
            "Trainable params: 707\n",
            "Non-trainable params: 0\n",
            "_________________________________________________________________\n"
          ],
          "name": "stdout"
        },
        {
          "output_type": "stream",
          "text": [
            "W0918 13:33:24.947124 140169749440384 deprecation_wrapper.py:119] From /usr/local/lib/python2.7/dist-packages/keras/backend/tensorflow_backend.py:986: The name tf.assign_add is deprecated. Please use tf.compat.v1.assign_add instead.\n",
            "\n"
          ],
          "name": "stderr"
        },
        {
          "output_type": "stream",
          "text": [
            "Neural Network f1-score:  0.167\n",
            "              precision    recall  f1-score   support\n",
            "\n",
            "           0       0.00      0.00      0.00         1\n",
            "           1       0.33      1.00      0.50         1\n",
            "           2       0.00      0.00      0.00         1\n",
            "\n",
            "   micro avg       0.33      0.33      0.33         3\n",
            "   macro avg       0.11      0.33      0.17         3\n",
            "weighted avg       0.11      0.33      0.17         3\n",
            "\n",
            "[[0 1 0]\n",
            " [0 1 0]\n",
            " [0 1 0]]\n"
          ],
          "name": "stdout"
        }
      ]
    },
    {
      "cell_type": "markdown",
      "metadata": {
        "id": "q3qMMtU1iKC5",
        "colab_type": "text"
      },
      "source": [
        "# LSTM"
      ]
    },
    {
      "cell_type": "code",
      "metadata": {
        "id": "dYWQfaqWlZBa",
        "colab_type": "code",
        "outputId": "e92798d6-274c-4710-9f89-2f8ce2f2ca74",
        "colab": {
          "base_uri": "https://localhost:8080/",
          "height": 34
        }
      },
      "source": [
        "# process sequences for LSTM\n",
        "def convert(url):\n",
        "  results = []\n",
        "\n",
        "  for i in range(len(url)):\n",
        "    results.append(ord(url[i]))\n",
        "\n",
        "  return results\n",
        "\n",
        "convert('xyz')"
      ],
      "execution_count": 16,
      "outputs": [
        {
          "output_type": "execute_result",
          "data": {
            "text/plain": [
              "[120, 121, 122]"
            ]
          },
          "metadata": {
            "tags": []
          },
          "execution_count": 16
        }
      ]
    },
    {
      "cell_type": "code",
      "metadata": {
        "id": "rGtlr_b0l9SS",
        "colab_type": "code",
        "outputId": "8b146d21-8070-4000-a89c-580df2189ca2",
        "colab": {
          "base_uri": "https://localhost:8080/",
          "height": 426
        }
      },
      "source": [
        "df_url['sequence'] = df_url['url'].apply(lambda x: convert(x))\n",
        "display(df_url)"
      ],
      "execution_count": 17,
      "outputs": [
        {
          "output_type": "display_data",
          "data": {
            "text/plain": [
              "                          url  ...                                           sequence\n",
              "0               www.yahoo.com  ...  [119, 119, 119, 46, 121, 97, 104, 111, 111, 46...\n",
              "1                  google.com  ...   [103, 111, 111, 103, 108, 101, 46, 99, 111, 109]\n",
              "2           http://google.com  ...  [104, 116, 116, 112, 58, 47, 47, 103, 111, 111...\n",
              "3            http://oogle.com  ...  [104, 116, 116, 112, 58, 47, 47, 111, 111, 103...\n",
              "4    http://google.com/a.html  ...  [104, 116, 116, 112, 58, 47, 47, 103, 111, 111...\n",
              "5                    ggle.net  ...            [103, 103, 108, 101, 46, 110, 101, 116]\n",
              "6              www.yahoo.com/  ...  [119, 119, 119, 46, 121, 97, 104, 111, 111, 46...\n",
              "7                 google.com/  ...  [103, 111, 111, 103, 108, 101, 46, 99, 111, 10...\n",
              "8          http://google.com/  ...  [104, 116, 116, 112, 58, 47, 47, 103, 111, 111...\n",
              "9           http://oogle.com/  ...  [104, 116, 116, 112, 58, 47, 47, 111, 111, 103...\n",
              "10  http://google.com/a.html/  ...  [104, 116, 116, 112, 58, 47, 47, 103, 111, 111...\n",
              "11                  ggle.net/  ...        [103, 103, 108, 101, 46, 110, 101, 116, 47]\n",
              "\n",
              "[12 rows x 6 columns]"
            ],
            "text/html": [
              "<div>\n",
              "<style scoped>\n",
              "    .dataframe tbody tr th:only-of-type {\n",
              "        vertical-align: middle;\n",
              "    }\n",
              "\n",
              "    .dataframe tbody tr th {\n",
              "        vertical-align: top;\n",
              "    }\n",
              "\n",
              "    .dataframe thead th {\n",
              "        text-align: right;\n",
              "    }\n",
              "</style>\n",
              "<table border=\"1\" class=\"dataframe\">\n",
              "  <thead>\n",
              "    <tr style=\"text-align: right;\">\n",
              "      <th></th>\n",
              "      <th>url</th>\n",
              "      <th>label</th>\n",
              "      <th>dots</th>\n",
              "      <th>slashes</th>\n",
              "      <th>len</th>\n",
              "      <th>sequence</th>\n",
              "    </tr>\n",
              "  </thead>\n",
              "  <tbody>\n",
              "    <tr>\n",
              "      <th>0</th>\n",
              "      <td>www.yahoo.com</td>\n",
              "      <td>1</td>\n",
              "      <td>2</td>\n",
              "      <td>0</td>\n",
              "      <td>13</td>\n",
              "      <td>[119, 119, 119, 46, 121, 97, 104, 111, 111, 46...</td>\n",
              "    </tr>\n",
              "    <tr>\n",
              "      <th>1</th>\n",
              "      <td>google.com</td>\n",
              "      <td>1</td>\n",
              "      <td>1</td>\n",
              "      <td>0</td>\n",
              "      <td>10</td>\n",
              "      <td>[103, 111, 111, 103, 108, 101, 46, 99, 111, 109]</td>\n",
              "    </tr>\n",
              "    <tr>\n",
              "      <th>2</th>\n",
              "      <td>http://google.com</td>\n",
              "      <td>1</td>\n",
              "      <td>1</td>\n",
              "      <td>2</td>\n",
              "      <td>17</td>\n",
              "      <td>[104, 116, 116, 112, 58, 47, 47, 103, 111, 111...</td>\n",
              "    </tr>\n",
              "    <tr>\n",
              "      <th>3</th>\n",
              "      <td>http://oogle.com</td>\n",
              "      <td>0</td>\n",
              "      <td>1</td>\n",
              "      <td>2</td>\n",
              "      <td>16</td>\n",
              "      <td>[104, 116, 116, 112, 58, 47, 47, 111, 111, 103...</td>\n",
              "    </tr>\n",
              "    <tr>\n",
              "      <th>4</th>\n",
              "      <td>http://google.com/a.html</td>\n",
              "      <td>0</td>\n",
              "      <td>2</td>\n",
              "      <td>3</td>\n",
              "      <td>24</td>\n",
              "      <td>[104, 116, 116, 112, 58, 47, 47, 103, 111, 111...</td>\n",
              "    </tr>\n",
              "    <tr>\n",
              "      <th>5</th>\n",
              "      <td>ggle.net</td>\n",
              "      <td>0</td>\n",
              "      <td>1</td>\n",
              "      <td>0</td>\n",
              "      <td>8</td>\n",
              "      <td>[103, 103, 108, 101, 46, 110, 101, 116]</td>\n",
              "    </tr>\n",
              "    <tr>\n",
              "      <th>6</th>\n",
              "      <td>www.yahoo.com/</td>\n",
              "      <td>2</td>\n",
              "      <td>2</td>\n",
              "      <td>1</td>\n",
              "      <td>14</td>\n",
              "      <td>[119, 119, 119, 46, 121, 97, 104, 111, 111, 46...</td>\n",
              "    </tr>\n",
              "    <tr>\n",
              "      <th>7</th>\n",
              "      <td>google.com/</td>\n",
              "      <td>2</td>\n",
              "      <td>1</td>\n",
              "      <td>1</td>\n",
              "      <td>11</td>\n",
              "      <td>[103, 111, 111, 103, 108, 101, 46, 99, 111, 10...</td>\n",
              "    </tr>\n",
              "    <tr>\n",
              "      <th>8</th>\n",
              "      <td>http://google.com/</td>\n",
              "      <td>2</td>\n",
              "      <td>1</td>\n",
              "      <td>3</td>\n",
              "      <td>18</td>\n",
              "      <td>[104, 116, 116, 112, 58, 47, 47, 103, 111, 111...</td>\n",
              "    </tr>\n",
              "    <tr>\n",
              "      <th>9</th>\n",
              "      <td>http://oogle.com/</td>\n",
              "      <td>0</td>\n",
              "      <td>1</td>\n",
              "      <td>3</td>\n",
              "      <td>17</td>\n",
              "      <td>[104, 116, 116, 112, 58, 47, 47, 111, 111, 103...</td>\n",
              "    </tr>\n",
              "    <tr>\n",
              "      <th>10</th>\n",
              "      <td>http://google.com/a.html/</td>\n",
              "      <td>1</td>\n",
              "      <td>2</td>\n",
              "      <td>4</td>\n",
              "      <td>25</td>\n",
              "      <td>[104, 116, 116, 112, 58, 47, 47, 103, 111, 111...</td>\n",
              "    </tr>\n",
              "    <tr>\n",
              "      <th>11</th>\n",
              "      <td>ggle.net/</td>\n",
              "      <td>2</td>\n",
              "      <td>1</td>\n",
              "      <td>1</td>\n",
              "      <td>9</td>\n",
              "      <td>[103, 103, 108, 101, 46, 110, 101, 116, 47]</td>\n",
              "    </tr>\n",
              "  </tbody>\n",
              "</table>\n",
              "</div>"
            ]
          },
          "metadata": {
            "tags": []
          }
        }
      ]
    },
    {
      "cell_type": "code",
      "metadata": {
        "id": "cnuYwTWRmSom",
        "colab_type": "code",
        "colab": {}
      },
      "source": [
        "X = df_url['sequence']\n",
        "\n",
        "from keras.preprocessing.sequence import pad_sequences\n",
        "\n",
        "pad_sequences??"
      ],
      "execution_count": 0,
      "outputs": []
    },
    {
      "cell_type": "code",
      "metadata": {
        "id": "mLze2uzUmphd",
        "colab_type": "code",
        "outputId": "0f18ced3-2642-4066-dc0c-355cee312042",
        "colab": {
          "base_uri": "https://localhost:8080/",
          "height": 434
        }
      },
      "source": [
        "N_STEPS = 20\n",
        "N_FEATURES = 1\n",
        "\n",
        "X = pad_sequences(X, maxlen=N_STEPS, padding='post', truncating='post')\n",
        "X_train, X_test, y_train, y_test = train_test_split(X,y, random_state=RAND_SEED)\n",
        "display(X)"
      ],
      "execution_count": 19,
      "outputs": [
        {
          "output_type": "display_data",
          "data": {
            "text/plain": [
              "array([[119, 119, 119,  46, 121,  97, 104, 111, 111,  46,  99, 111, 109,\n",
              "          0,   0,   0,   0,   0,   0,   0],\n",
              "       [103, 111, 111, 103, 108, 101,  46,  99, 111, 109,   0,   0,   0,\n",
              "          0,   0,   0,   0,   0,   0,   0],\n",
              "       [104, 116, 116, 112,  58,  47,  47, 103, 111, 111, 103, 108, 101,\n",
              "         46,  99, 111, 109,   0,   0,   0],\n",
              "       [104, 116, 116, 112,  58,  47,  47, 111, 111, 103, 108, 101,  46,\n",
              "         99, 111, 109,   0,   0,   0,   0],\n",
              "       [104, 116, 116, 112,  58,  47,  47, 103, 111, 111, 103, 108, 101,\n",
              "         46,  99, 111, 109,  47,  97,  46],\n",
              "       [103, 103, 108, 101,  46, 110, 101, 116,   0,   0,   0,   0,   0,\n",
              "          0,   0,   0,   0,   0,   0,   0],\n",
              "       [119, 119, 119,  46, 121,  97, 104, 111, 111,  46,  99, 111, 109,\n",
              "         47,   0,   0,   0,   0,   0,   0],\n",
              "       [103, 111, 111, 103, 108, 101,  46,  99, 111, 109,  47,   0,   0,\n",
              "          0,   0,   0,   0,   0,   0,   0],\n",
              "       [104, 116, 116, 112,  58,  47,  47, 103, 111, 111, 103, 108, 101,\n",
              "         46,  99, 111, 109,  47,   0,   0],\n",
              "       [104, 116, 116, 112,  58,  47,  47, 111, 111, 103, 108, 101,  46,\n",
              "         99, 111, 109,  47,   0,   0,   0],\n",
              "       [104, 116, 116, 112,  58,  47,  47, 103, 111, 111, 103, 108, 101,\n",
              "         46,  99, 111, 109,  47,  97,  46],\n",
              "       [103, 103, 108, 101,  46, 110, 101, 116,  47,   0,   0,   0,   0,\n",
              "          0,   0,   0,   0,   0,   0,   0]], dtype=int32)"
            ]
          },
          "metadata": {
            "tags": []
          }
        }
      ]
    },
    {
      "cell_type": "code",
      "metadata": {
        "id": "h-W0uPoHnBrl",
        "colab_type": "code",
        "colab": {}
      },
      "source": [
        "from keras.layers import LSTM, Dense, Masking\n",
        "from keras.models import Sequential"
      ],
      "execution_count": 0,
      "outputs": []
    },
    {
      "cell_type": "code",
      "metadata": {
        "id": "mPPU4X02nW_c",
        "colab_type": "code",
        "colab": {}
      },
      "source": [
        "LSTM??"
      ],
      "execution_count": 0,
      "outputs": []
    },
    {
      "cell_type": "code",
      "metadata": {
        "id": "gxufSyOinVA2",
        "colab_type": "code",
        "colab": {}
      },
      "source": [
        "def build_LSTM(input_shape):\n",
        "  model = Sequential()\n",
        "  model.add(Masking(input_shape=input_shape)) # masking helps\n",
        "  model.add(LSTM(units=32,activation='relu', return_sequences=True))\n",
        "  model.add(LSTM(units=32, activation='relu', return_sequences=False))\n",
        "  model.add(Dense(units=3, activation='softmax')) # instead of 1 unit sigmoid for binary class\n",
        "\n",
        "  # model.compile(optimizer='adam', loss='categorical_crossentropy') # for one-hot\n",
        "  # model.compile(optimizer='adam', loss='binary_crossentropy') # for 2 classes\n",
        "  model.compile(optimizer='adam', loss='sparse_categorical_crossentropy') # for multi class\n",
        "  \n",
        "  model.summary()\n",
        "\n",
        "  return model"
      ],
      "execution_count": 0,
      "outputs": []
    },
    {
      "cell_type": "code",
      "metadata": {
        "id": "CyWwPQxnosBy",
        "colab_type": "code",
        "outputId": "c27fe31a-bcb6-4de9-d75a-5a98575e4df4",
        "colab": {
          "base_uri": "https://localhost:8080/",
          "height": 278
        }
      },
      "source": [
        "model = build_LSTM((N_STEPS, N_FEATURES))"
      ],
      "execution_count": 23,
      "outputs": [
        {
          "output_type": "stream",
          "text": [
            "_________________________________________________________________\n",
            "Layer (type)                 Output Shape              Param #   \n",
            "=================================================================\n",
            "masking_1 (Masking)          (None, 20, 1)             0         \n",
            "_________________________________________________________________\n",
            "lstm_1 (LSTM)                (None, 20, 32)            4352      \n",
            "_________________________________________________________________\n",
            "lstm_2 (LSTM)                (None, 32)                8320      \n",
            "_________________________________________________________________\n",
            "dense_4 (Dense)              (None, 3)                 99        \n",
            "=================================================================\n",
            "Total params: 12,771\n",
            "Trainable params: 12,771\n",
            "Non-trainable params: 0\n",
            "_________________________________________________________________\n"
          ],
          "name": "stdout"
        }
      ]
    },
    {
      "cell_type": "code",
      "metadata": {
        "id": "FZ7OuJqEqDwj",
        "colab_type": "code",
        "outputId": "7fa278d8-be1b-45cc-d3d9-95bcc88a026d",
        "colab": {
          "base_uri": "https://localhost:8080/",
          "height": 225
        }
      },
      "source": [
        "NB_EPOCHS = 500\n",
        "\n",
        "X_train = X_train.reshape(X_train.shape[0], X_train.shape[1], N_FEATURES)\n",
        "X_test = X_test.reshape(X_test.shape[0], X_test.shape[1], N_FEATURES)\n",
        "\n",
        "model.fit(X_train, y_train, epochs=NB_EPOCHS, validation_split=0.2,verbose=0)\n",
        "pred = model.predict_classes(X_test) # instead of predict\n",
        "\n",
        "f1 = '{0:.3f}'.format(f1_score(y_test, pred, average='macro'))\n",
        "cm = confusion_matrix(y_test,pred)\n",
        "cr = classification_report(y_test, pred)\n",
        "\n",
        "print f1, cm, cr"
      ],
      "execution_count": 24,
      "outputs": [
        {
          "output_type": "stream",
          "text": [
            "0.556 [[0 1 0]\n",
            " [0 1 0]\n",
            " [0 0 1]]               precision    recall  f1-score   support\n",
            "\n",
            "           0       0.00      0.00      0.00         1\n",
            "           1       0.50      1.00      0.67         1\n",
            "           2       1.00      1.00      1.00         1\n",
            "\n",
            "   micro avg       0.67      0.67      0.67         3\n",
            "   macro avg       0.50      0.67      0.56         3\n",
            "weighted avg       0.50      0.67      0.56         3\n",
            "\n"
          ],
          "name": "stdout"
        }
      ]
    }
  ]
}